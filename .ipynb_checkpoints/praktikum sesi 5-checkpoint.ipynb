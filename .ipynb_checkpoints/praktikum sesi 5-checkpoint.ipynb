{
 "cells": [
  {
   "cell_type": "markdown",
   "id": "0085e9ce",
   "metadata": {},
   "source": [
    "# Latihan 1\n",
    "\n",
    "Buatlah variabel dengan nama hobi, yang digunakan untuk menampung input dari user dengan label \"Hobi kamu apa? : \" , kemudian Cetaklah dengan label Hobi kamu : {hobi}\n",
    "Buatlah variabel nama, yang digunakan untuk menampung input dari user dengan label \"Siapa nama kamu? : \" , misal user mengisikan nama \"Romi\" maka akan tampil output Nama kamu berawalan huruf R\n"
   ]
  },
  {
   "cell_type": "code",
   "execution_count": null,
   "id": "29fa5791",
   "metadata": {},
   "outputs": [],
   "source": [
    "hobi = input(\"Hobi kamu apa? :\")\n",
    "print(f\"Hobi kamu {hobi}\")"
   ]
  },
  {
   "cell_type": "code",
   "execution_count": null,
   "id": "7cfcf9a9",
   "metadata": {},
   "outputs": [],
   "source": [
    "nama = input(\"Siapa nama kamu ? :\")\n",
    "print(f\"Nama kamu bwawalan huruf {nama[0]}\")"
   ]
  },
  {
   "cell_type": "markdown",
   "id": "20075ff9",
   "metadata": {},
   "source": [
    "# Latihan 2\n",
    "Buatlah program tebak hasil dari perkalian dari 2 angka dari 0 sampai 100, jika user menjawab benar maka tampil Jawaban anda True dan jika salah, maka akan tampil Jawaban anda False"
   ]
  },
  {
   "cell_type": "code",
   "execution_count": 3,
   "id": "13058241",
   "metadata": {},
   "outputs": [
    {
     "name": "stdout",
     "output_type": "stream",
     "text": [
      "Berapakah hasil dari perkalian 11 dan 40 440\n",
      "Jawaban anda True \n"
     ]
    }
   ],
   "source": [
    "from random import randint\n",
    "angka_1 = randint(0,100)\n",
    "angka_2 = randint(0,100)\n",
    "\n",
    "hasil = int(input(f\"Berapakah hasil dari perkalian {angka_1} dan {angka_2} \"))\n",
    "print(f\"Jawaban anda {hasil == angka_1*angka_2} \")"
   ]
  },
  {
   "cell_type": "markdown",
   "id": "475f8f9c",
   "metadata": {},
   "source": [
    "Carilah kode CLDR Names dan unicode dari emoji, dan cetaklah menggunakan fungsi print"
   ]
  },
  {
   "cell_type": "code",
   "execution_count": 17,
   "id": "7c8be960",
   "metadata": {},
   "outputs": [
    {
     "name": "stdout",
     "output_type": "stream",
     "text": [
      "Names : grinning face\n",
      "unicode : U0001f600 \n",
      "code : 😀\n"
     ]
    }
   ],
   "source": [
    "print(\"Names : grinning face\")\n",
    "print(\"unicode : U0001f600 \")\n",
    "print(\"code : \\U0001f600\")\n"
   ]
  },
  {
   "cell_type": "markdown",
   "id": "16d2757c",
   "metadata": {},
   "source": [
    "# Latihan 3\n",
    "Jika terdapat sebuah string Belajar Pemrograman Python Maka tampilkan output berikut ini menggunakan fungsi print\n",
    "\n",
    "1. Belajar\n",
    "2. ajar\n",
    "3. Pemrograman\n",
    "4. gram\n",
    "5. Python\n",
    "6. Py\n",
    "7. gram Python\n",
    "8. Pemrograman Python"
   ]
  },
  {
   "cell_type": "code",
   "execution_count": 47,
   "id": "46b6b538",
   "metadata": {},
   "outputs": [
    {
     "name": "stdout",
     "output_type": "stream",
     "text": [
      "1 Belajar\n",
      "2 ajar\n",
      "3 Pemrograman \n",
      "4 gram\n",
      "5 Python\n",
      "6 Py\n",
      "7 gram Python\n",
      "8 Pemrograman  Python\n"
     ]
    }
   ],
   "source": [
    "kalimat = 'Belajar Pemrograman Python'\n",
    "print('1',kalimat[0:7])\n",
    "print('2',kalimat[3:7])\n",
    "print('3',kalimat[8:20])\n",
    "print('4',kalimat[13:17])\n",
    "print('5',kalimat[20:26])\n",
    "print('6',kalimat[20:22])\n",
    "print('7',kalimat[13:17]+kalimat[19:26])\n",
    "print('8',kalimat[8:20]+kalimat[19:26])"
   ]
  },
  {
   "cell_type": "markdown",
   "id": "b347804e",
   "metadata": {},
   "source": [
    "# latiha 4\n",
    "1. Buatlah program untuk mengecek bahwa sebuah email termasuk valid atau tidak. Valid diartikan True dan tidak valid diartikan False Berikut contoh test case yang bisa digunakan sebagai acuan\n",
    "\n",
    "- alunsujjada@gmailcom -> False\n",
    "- alunsujjada@gmail.com -> True\n",
    "- alun.sujjada@gmail.com -> False\n",
    "- alunsujjada.gmail.com -> False\n",
    "- alun.sujjada@gmailcom -> False"
   ]
  },
  {
   "cell_type": "code",
   "execution_count": 1,
   "id": "07702ffe",
   "metadata": {},
   "outputs": [
    {
     "name": "stdout",
     "output_type": "stream",
     "text": [
      "Masukan email anda = alun.sujjada@gmail.com\n",
      "True\n"
     ]
    }
   ],
   "source": [
    "email = input(\"Masukan email anda = \")\n",
    "\n",
    "pos_at =email.find(\"@\")\n",
    "pos_dot =email.find(\".\")\n",
    "print(pos_at > pos_dot)"
   ]
  },
  {
   "cell_type": "code",
   "execution_count": 7,
   "id": "76341b22",
   "metadata": {},
   "outputs": [
    {
     "name": "stdout",
     "output_type": "stream",
     "text": [
      "alunsujjada@gmailcom -> False\n",
      "alunsujjada@gmail.com -> True\n",
      "alun.sujjada@gmail.com -> False\n",
      "alunsujjada.gmail.com -> False\n",
      "alun.sujjada@gmailcom -> False\n"
     ]
    }
   ],
   "source": [
    "def isEmailValid(email):\n",
    "    content = email.split(\"@\")\n",
    "\n",
    "    haveNoSpace = email.find(\" \") == -1\n",
    "\n",
    "    isContent = len(content) == 2\n",
    "\n",
    "    isIdentifier = content[0].isidentifier()\n",
    "\n",
    "    isDomain = len(content) == 2 and content[1].find(\".\") != -1 and (not content[1].startswith(\".\")) and (not content[1].endswith(\".\"))\n",
    "    \n",
    "    return haveNoSpace and isContent and isIdentifier and isDomain\n",
    "\n",
    "emails = [\"alunsujjada@gmailcom\", \"alunsujjada@gmail.com\", \"alun.sujjada@gmail.com\", \"alunsujjada.gmail.com\", \"alun.sujjada@gmailcom\"]\n",
    "\n",
    "for email in emails:\n",
    "    isValid = isEmailValid(email)\n",
    "    print(f\"{email} -> {isValid}\")\n"
   ]
  }
 ],
 "metadata": {
  "kernelspec": {
   "display_name": "Python 3 (ipykernel)",
   "language": "python",
   "name": "python3"
  },
  "language_info": {
   "codemirror_mode": {
    "name": "ipython",
    "version": 3
   },
   "file_extension": ".py",
   "mimetype": "text/x-python",
   "name": "python",
   "nbconvert_exporter": "python",
   "pygments_lexer": "ipython3",
   "version": "3.9.13"
  }
 },
 "nbformat": 4,
 "nbformat_minor": 5
}
